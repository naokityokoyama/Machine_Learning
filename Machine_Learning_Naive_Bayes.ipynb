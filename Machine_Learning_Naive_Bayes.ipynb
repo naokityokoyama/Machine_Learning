{
  "nbformat": 4,
  "nbformat_minor": 0,
  "metadata": {
    "colab": {
      "name": "Machine_Learning_Naive_Bayes.ipynb",
      "provenance": [],
      "collapsed_sections": [],
      "authorship_tag": "ABX9TyOvOqQup8Qik+KhM8XZIWNM",
      "include_colab_link": true
    },
    "kernelspec": {
      "name": "python3",
      "display_name": "Python 3"
    }
  },
  "cells": [
    {
      "cell_type": "markdown",
      "metadata": {
        "id": "view-in-github",
        "colab_type": "text"
      },
      "source": [
        "<a href=\"https://colab.research.google.com/github/naokityokoyama/Machine_Learning/blob/master/Machine_Learning_Naive_Bayes.ipynb\" target=\"_parent\"><img src=\"https://colab.research.google.com/assets/colab-badge.svg\" alt=\"Open In Colab\"/></a>"
      ]
    },
    {
      "cell_type": "markdown",
      "metadata": {
        "id": "wvCHkkXHHYpV",
        "colab_type": "text"
      },
      "source": [
        "# Machine Leanning usando Naive-Bayes\n",
        "modelo supervisionado do sklearn usando probabilidade"
      ]
    },
    {
      "cell_type": "code",
      "metadata": {
        "id": "Y0WpUNSp8U_b",
        "colab_type": "code",
        "colab": {}
      },
      "source": [
        "import pandas as pd\n",
        "from sklearn.model_selection import train_test_split\n",
        "from sklearn.naive_bayes import GaussianNB\n",
        "from sklearn.preprocessing import LabelEncoder  \n",
        "from yellowbrick.classifier import ConfusionMatrix\n",
        "from sklearn.metrics import confusion_matrix, accuracy_score"
      ],
      "execution_count": null,
      "outputs": []
    },
    {
      "cell_type": "code",
      "metadata": {
        "id": "ZS8euGksDjSQ",
        "colab_type": "code",
        "colab": {}
      },
      "source": [
        "credito = pd.read_csv('https://raw.githubusercontent.com/stedy/Machine-Learning-with-R-datasets/master/credit.csv')"
      ],
      "execution_count": null,
      "outputs": []
    },
    {
      "cell_type": "code",
      "metadata": {
        "id": "M9Gf1TPMtYoz",
        "colab_type": "code",
        "colab": {
          "base_uri": "https://localhost:8080/",
          "height": 34
        },
        "outputId": "eaf33799-4aa7-4f9a-af87-dac9da671589"
      },
      "source": [
        "credito.shape"
      ],
      "execution_count": null,
      "outputs": [
        {
          "output_type": "execute_result",
          "data": {
            "text/plain": [
              "(1000, 21)"
            ]
          },
          "metadata": {
            "tags": []
          },
          "execution_count": 19
        }
      ]
    },
    {
      "cell_type": "code",
      "metadata": {
        "id": "9CQI42_HLAOb",
        "colab_type": "code",
        "colab": {
          "base_uri": "https://localhost:8080/",
          "height": 317
        },
        "outputId": "8c136e78-890d-4c9b-d13d-ab0d924101e8"
      },
      "source": [
        "credito.head()"
      ],
      "execution_count": null,
      "outputs": [
        {
          "output_type": "execute_result",
          "data": {
            "text/html": [
              "<div>\n",
              "<style scoped>\n",
              "    .dataframe tbody tr th:only-of-type {\n",
              "        vertical-align: middle;\n",
              "    }\n",
              "\n",
              "    .dataframe tbody tr th {\n",
              "        vertical-align: top;\n",
              "    }\n",
              "\n",
              "    .dataframe thead th {\n",
              "        text-align: right;\n",
              "    }\n",
              "</style>\n",
              "<table border=\"1\" class=\"dataframe\">\n",
              "  <thead>\n",
              "    <tr style=\"text-align: right;\">\n",
              "      <th></th>\n",
              "      <th>checking_balance</th>\n",
              "      <th>months_loan_duration</th>\n",
              "      <th>credit_history</th>\n",
              "      <th>purpose</th>\n",
              "      <th>amount</th>\n",
              "      <th>savings_balance</th>\n",
              "      <th>employment_length</th>\n",
              "      <th>installment_rate</th>\n",
              "      <th>personal_status</th>\n",
              "      <th>other_debtors</th>\n",
              "      <th>residence_history</th>\n",
              "      <th>property</th>\n",
              "      <th>age</th>\n",
              "      <th>installment_plan</th>\n",
              "      <th>housing</th>\n",
              "      <th>existing_credits</th>\n",
              "      <th>default</th>\n",
              "      <th>dependents</th>\n",
              "      <th>telephone</th>\n",
              "      <th>foreign_worker</th>\n",
              "      <th>job</th>\n",
              "    </tr>\n",
              "  </thead>\n",
              "  <tbody>\n",
              "    <tr>\n",
              "      <th>0</th>\n",
              "      <td>&lt; 0 DM</td>\n",
              "      <td>6</td>\n",
              "      <td>critical</td>\n",
              "      <td>radio/tv</td>\n",
              "      <td>1169</td>\n",
              "      <td>unknown</td>\n",
              "      <td>&gt; 7 yrs</td>\n",
              "      <td>4</td>\n",
              "      <td>single male</td>\n",
              "      <td>none</td>\n",
              "      <td>4</td>\n",
              "      <td>real estate</td>\n",
              "      <td>67</td>\n",
              "      <td>none</td>\n",
              "      <td>own</td>\n",
              "      <td>2</td>\n",
              "      <td>1</td>\n",
              "      <td>1</td>\n",
              "      <td>yes</td>\n",
              "      <td>yes</td>\n",
              "      <td>skilled employee</td>\n",
              "    </tr>\n",
              "    <tr>\n",
              "      <th>1</th>\n",
              "      <td>1 - 200 DM</td>\n",
              "      <td>48</td>\n",
              "      <td>repaid</td>\n",
              "      <td>radio/tv</td>\n",
              "      <td>5951</td>\n",
              "      <td>&lt; 100 DM</td>\n",
              "      <td>1 - 4 yrs</td>\n",
              "      <td>2</td>\n",
              "      <td>female</td>\n",
              "      <td>none</td>\n",
              "      <td>2</td>\n",
              "      <td>real estate</td>\n",
              "      <td>22</td>\n",
              "      <td>none</td>\n",
              "      <td>own</td>\n",
              "      <td>1</td>\n",
              "      <td>2</td>\n",
              "      <td>1</td>\n",
              "      <td>none</td>\n",
              "      <td>yes</td>\n",
              "      <td>skilled employee</td>\n",
              "    </tr>\n",
              "    <tr>\n",
              "      <th>2</th>\n",
              "      <td>unknown</td>\n",
              "      <td>12</td>\n",
              "      <td>critical</td>\n",
              "      <td>education</td>\n",
              "      <td>2096</td>\n",
              "      <td>&lt; 100 DM</td>\n",
              "      <td>4 - 7 yrs</td>\n",
              "      <td>2</td>\n",
              "      <td>single male</td>\n",
              "      <td>none</td>\n",
              "      <td>3</td>\n",
              "      <td>real estate</td>\n",
              "      <td>49</td>\n",
              "      <td>none</td>\n",
              "      <td>own</td>\n",
              "      <td>1</td>\n",
              "      <td>1</td>\n",
              "      <td>2</td>\n",
              "      <td>none</td>\n",
              "      <td>yes</td>\n",
              "      <td>unskilled resident</td>\n",
              "    </tr>\n",
              "    <tr>\n",
              "      <th>3</th>\n",
              "      <td>&lt; 0 DM</td>\n",
              "      <td>42</td>\n",
              "      <td>repaid</td>\n",
              "      <td>furniture</td>\n",
              "      <td>7882</td>\n",
              "      <td>&lt; 100 DM</td>\n",
              "      <td>4 - 7 yrs</td>\n",
              "      <td>2</td>\n",
              "      <td>single male</td>\n",
              "      <td>guarantor</td>\n",
              "      <td>4</td>\n",
              "      <td>building society savings</td>\n",
              "      <td>45</td>\n",
              "      <td>none</td>\n",
              "      <td>for free</td>\n",
              "      <td>1</td>\n",
              "      <td>1</td>\n",
              "      <td>2</td>\n",
              "      <td>none</td>\n",
              "      <td>yes</td>\n",
              "      <td>skilled employee</td>\n",
              "    </tr>\n",
              "    <tr>\n",
              "      <th>4</th>\n",
              "      <td>&lt; 0 DM</td>\n",
              "      <td>24</td>\n",
              "      <td>delayed</td>\n",
              "      <td>car (new)</td>\n",
              "      <td>4870</td>\n",
              "      <td>&lt; 100 DM</td>\n",
              "      <td>1 - 4 yrs</td>\n",
              "      <td>3</td>\n",
              "      <td>single male</td>\n",
              "      <td>none</td>\n",
              "      <td>4</td>\n",
              "      <td>unknown/none</td>\n",
              "      <td>53</td>\n",
              "      <td>none</td>\n",
              "      <td>for free</td>\n",
              "      <td>2</td>\n",
              "      <td>2</td>\n",
              "      <td>2</td>\n",
              "      <td>none</td>\n",
              "      <td>yes</td>\n",
              "      <td>skilled employee</td>\n",
              "    </tr>\n",
              "  </tbody>\n",
              "</table>\n",
              "</div>"
            ],
            "text/plain": [
              "  checking_balance  months_loan_duration  ... foreign_worker                 job\n",
              "0           < 0 DM                     6  ...            yes    skilled employee\n",
              "1       1 - 200 DM                    48  ...            yes    skilled employee\n",
              "2          unknown                    12  ...            yes  unskilled resident\n",
              "3           < 0 DM                    42  ...            yes    skilled employee\n",
              "4           < 0 DM                    24  ...            yes    skilled employee\n",
              "\n",
              "[5 rows x 21 columns]"
            ]
          },
          "metadata": {
            "tags": []
          },
          "execution_count": 20
        }
      ]
    },
    {
      "cell_type": "markdown",
      "metadata": {
        "id": "EL4dzTZ5Hpb6",
        "colab_type": "text"
      },
      "source": [
        "Separando as colunas como Atributos e classe "
      ]
    },
    {
      "cell_type": "code",
      "metadata": {
        "id": "VoZgSYfgwy4W",
        "colab_type": "code",
        "colab": {}
      },
      "source": [
        "previsores = credito.iloc[:,0:20].values\n",
        "classe = credito.iloc[:,20].values"
      ],
      "execution_count": null,
      "outputs": []
    },
    {
      "cell_type": "markdown",
      "metadata": {
        "id": "v3RJSGIZIMxR",
        "colab_type": "text"
      },
      "source": [
        "Instanciando o Lavelencoder "
      ]
    },
    {
      "cell_type": "code",
      "metadata": {
        "id": "5uF6brXwyRuX",
        "colab_type": "code",
        "colab": {}
      },
      "source": [
        "#instanciando labelencoder\n",
        "labelencoder = LabelEncoder()"
      ],
      "execution_count": null,
      "outputs": []
    },
    {
      "cell_type": "markdown",
      "metadata": {
        "id": "w5VghusOITl5",
        "colab_type": "text"
      },
      "source": [
        "Tranformando de qualitativo para quantitativo"
      ]
    },
    {
      "cell_type": "code",
      "metadata": {
        "id": "K9Lzxt4QybP2",
        "colab_type": "code",
        "colab": {}
      },
      "source": [
        "previsores[:,0] = labelencoder.fit_transform(previsores[:,0])\n",
        "previsores[:,2] = labelencoder.fit_transform(previsores[:,2])\n",
        "previsores[:,3] = labelencoder.fit_transform(previsores[:,3])\n",
        "previsores[:,5] = labelencoder.fit_transform(previsores[:,5])\n",
        "previsores[:,6] = labelencoder.fit_transform(previsores[:,6])\n",
        "previsores[:,8] = labelencoder.fit_transform(previsores[:,8])\n",
        "previsores[:,9] = labelencoder.fit_transform(previsores[:,9])\n",
        "previsores[:,11] = labelencoder.fit_transform(previsores[:,11])\n",
        "previsores[:,13] = labelencoder.fit_transform(previsores[:,13])\n",
        "previsores[:,14] = labelencoder.fit_transform(previsores[:,14])\n",
        "previsores[:,16] = labelencoder.fit_transform(previsores[:,16])\n",
        "previsores[:,18] = labelencoder.fit_transform(previsores[:,18])\n",
        "previsores[:,19] = labelencoder.fit_transform(previsores[:,19])"
      ],
      "execution_count": null,
      "outputs": []
    },
    {
      "cell_type": "code",
      "metadata": {
        "id": "L8GQ3M2Az4c_",
        "colab_type": "code",
        "colab": {}
      },
      "source": [
        "#criando variaveis de treino e teste \n",
        "x_treinamento, x_teste, y_treinamento, y_teste = train_test_split(previsores, classe, test_size=0.3, random_state = 0)\n"
      ],
      "execution_count": null,
      "outputs": []
    },
    {
      "cell_type": "code",
      "metadata": {
        "id": "PvwXu3ng0TPq",
        "colab_type": "code",
        "colab": {
          "base_uri": "https://localhost:8080/",
          "height": 34
        },
        "outputId": "a57e18b7-0890-404d-de86-d7eda228529d"
      },
      "source": [
        "print (f'x_treinamento={len(x_treinamento)}, x_teste={len(x_teste)}, y_treinamento={len(y_treinamento)}, y_teste={len(x_teste)}')"
      ],
      "execution_count": null,
      "outputs": [
        {
          "output_type": "stream",
          "text": [
            "x_treinamento=700, x_teste=300, y_treinamento=700, y_teste=300\n"
          ],
          "name": "stdout"
        }
      ]
    },
    {
      "cell_type": "markdown",
      "metadata": {
        "id": "vtdKBQ6BObFP",
        "colab_type": "text"
      },
      "source": [
        "Naive Bayes / treino"
      ]
    },
    {
      "cell_type": "code",
      "metadata": {
        "id": "rsXDdQ2OOeId",
        "colab_type": "code",
        "colab": {
          "base_uri": "https://localhost:8080/",
          "height": 34
        },
        "outputId": "e639475e-532f-4976-adf3-75d94997237f"
      },
      "source": [
        "naive_bayes = GaussianNB()\n",
        "naive_bayes.fit(x_treinamento, y_treinamento) \n"
      ],
      "execution_count": null,
      "outputs": [
        {
          "output_type": "execute_result",
          "data": {
            "text/plain": [
              "GaussianNB(priors=None, var_smoothing=1e-09)"
            ]
          },
          "metadata": {
            "tags": []
          },
          "execution_count": 26
        }
      ]
    },
    {
      "cell_type": "markdown",
      "metadata": {
        "id": "epCZGyQOPalz",
        "colab_type": "text"
      },
      "source": [
        "Previsões"
      ]
    },
    {
      "cell_type": "code",
      "metadata": {
        "id": "IFDD9fQNPfm6",
        "colab_type": "code",
        "colab": {}
      },
      "source": [
        "previsoes = naive_bayes.predict(x_teste)  "
      ],
      "execution_count": null,
      "outputs": []
    },
    {
      "cell_type": "code",
      "metadata": {
        "id": "nXpkEEMeQVRP",
        "colab_type": "code",
        "colab": {}
      },
      "source": [
        "confusao = confusion_matrix(y_teste, previsoes )  "
      ],
      "execution_count": null,
      "outputs": []
    },
    {
      "cell_type": "code",
      "metadata": {
        "id": "Y_FkDeYBQ811",
        "colab_type": "code",
        "colab": {}
      },
      "source": [
        "taxa_de_acerto = accuracy_score(y_teste, previsoes)\n",
        "taxa_de_erro = 1-taxa_de_acerto"
      ],
      "execution_count": null,
      "outputs": []
    },
    {
      "cell_type": "code",
      "metadata": {
        "id": "x16Wwhj8RQKO",
        "colab_type": "code",
        "colab": {
          "base_uri": "https://localhost:8080/",
          "height": 34
        },
        "outputId": "4bf0b32f-d11f-4eab-e180-67e6ed7960b9"
      },
      "source": [
        "print (f'A acuracia desse modelo foi de {round(taxa_de_acerto*100,2)} % / Taxa de erro foi de {round(taxa_de_erro*100,2)} %')"
      ],
      "execution_count": null,
      "outputs": [
        {
          "output_type": "stream",
          "text": [
            "A acuracia desse modelo foi de 61.33 % / Taxa de erro foi de 38.67 %\n"
          ],
          "name": "stdout"
        }
      ]
    },
    {
      "cell_type": "markdown",
      "metadata": {
        "id": "GzIe9dnFRrPQ",
        "colab_type": "text"
      },
      "source": [
        "## modelo na Yellowbrick"
      ]
    },
    {
      "cell_type": "code",
      "metadata": {
        "id": "nl6dXzE5SLXB",
        "colab_type": "code",
        "colab": {}
      },
      "source": [
        "from yellowbrick.classifier import ConfusionMatrix"
      ],
      "execution_count": null,
      "outputs": []
    },
    {
      "cell_type": "code",
      "metadata": {
        "id": "p5uVXtx1S2py",
        "colab_type": "code",
        "colab": {
          "base_uri": "https://localhost:8080/",
          "height": 495
        },
        "outputId": "dd79d1c4-8a1d-4a54-e4b1-8867932508a2"
      },
      "source": [
        "visualizador = ConfusionMatrix(GaussianNB()) \n",
        "visualizador.fit(x_treinamento, y_treinamento) \n",
        "visualizador.score(x_teste, y_teste) \n"
      ],
      "execution_count": null,
      "outputs": [
        {
          "output_type": "execute_result",
          "data": {
            "text/plain": [
              "0.6133333333333333"
            ]
          },
          "metadata": {
            "tags": []
          },
          "execution_count": 36
        },
        {
          "output_type": "display_data",
          "data": {
            "image/png": "[encoded data removed]",
            "text/plain": [
              "<Figure size 576x396 with 1 Axes>"
            ]
          },
          "metadata": {
            "tags": []
          }
        }
      ]
    }
  ]
}
