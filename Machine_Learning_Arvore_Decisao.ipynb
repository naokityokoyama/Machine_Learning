{
  "nbformat": 4,
  "nbformat_minor": 0,
  "metadata": {
    "colab": {
      "name": "Machine_Learning_Arvore_Decisao.ipynb",
      "provenance": [],
      "collapsed_sections": [],
      "toc_visible": true,
      "authorship_tag": "ABX9TyMbqUn5rMAxYU1abEYbp2M0",
      "include_colab_link": true
    },
    "kernelspec": {
      "name": "python3",
      "display_name": "Python 3"
    }
  },
  "cells": [
    {
      "cell_type": "markdown",
      "metadata": {
        "id": "view-in-github",
        "colab_type": "text"
      },
      "source": [
        "<a href=\"https://colab.research.google.com/github/naokityokoyama/Machine_Learning/blob/master/Machine_Learning_Arvore_Decisao.ipynb\" target=\"_parent\"><img src=\"https://colab.research.google.com/assets/colab-badge.svg\" alt=\"Open In Colab\"/></a>"
      ]
    },
    {
      "cell_type": "code",
      "metadata": {
        "id": "dMYeullRjTtq"
      },
      "source": [
        "import pandas as pd\n",
        "from sklearn.model_selection import train_test_split\n",
        "from sklearn.preprocessing import LabelEncoder\n",
        "from sklearn.metrics import confusion_matrix, accuracy_score\n",
        "\n",
        "from sklearn.tree import DecisionTreeClassifier"
      ],
      "execution_count": null,
      "outputs": []
    },
    {
      "cell_type": "code",
      "metadata": {
        "id": "-WQjgyeRjeH5"
      },
      "source": [
        "credito = pd.read_csv('https://raw.githubusercontent.com/stedy/Machine-Learning-with-R-datasets/master/credit.csv')"
      ],
      "execution_count": null,
      "outputs": []
    },
    {
      "cell_type": "markdown",
      "metadata": {
        "id": "KUM8WTuWkEMW"
      },
      "source": [
        "## Separando as colunas como Atributos e classe "
      ]
    },
    {
      "cell_type": "code",
      "metadata": {
        "id": "IkI2lThKkDKQ"
      },
      "source": [
        "previsores = credito.iloc[:,0:20].values\n",
        "classe = credito.iloc[:,20].values"
      ],
      "execution_count": null,
      "outputs": []
    },
    {
      "cell_type": "markdown",
      "metadata": {
        "id": "mfETGzFqkJMW"
      },
      "source": [
        "## Instanciando o labelencoder "
      ]
    },
    {
      "cell_type": "code",
      "metadata": {
        "id": "G-9ngUn6kJ6Q"
      },
      "source": [
        "labelencoder = LabelEncoder()"
      ],
      "execution_count": null,
      "outputs": []
    },
    {
      "cell_type": "markdown",
      "metadata": {
        "id": "y5YS6oGvkQh2"
      },
      "source": [
        "## Tranformando de qualitativo para quantitativo"
      ]
    },
    {
      "cell_type": "code",
      "metadata": {
        "id": "fUAP_CVQkRKg"
      },
      "source": [
        "previsores[:,0] = labelencoder.fit_transform(previsores[:,0])\n",
        "previsores[:,2] = labelencoder.fit_transform(previsores[:,2])\n",
        "previsores[:,3] = labelencoder.fit_transform(previsores[:,3])\n",
        "previsores[:,5] = labelencoder.fit_transform(previsores[:,5])\n",
        "previsores[:,6] = labelencoder.fit_transform(previsores[:,6])\n",
        "previsores[:,8] = labelencoder.fit_transform(previsores[:,8])\n",
        "previsores[:,9] = labelencoder.fit_transform(previsores[:,9])\n",
        "previsores[:,11] = labelencoder.fit_transform(previsores[:,11])\n",
        "previsores[:,13] = labelencoder.fit_transform(previsores[:,13])\n",
        "previsores[:,14] = labelencoder.fit_transform(previsores[:,14])\n",
        "previsores[:,16] = labelencoder.fit_transform(previsores[:,16])\n",
        "previsores[:,18] = labelencoder.fit_transform(previsores[:,18])\n",
        "previsores[:,19] = labelencoder.fit_transform(previsores[:,19])"
      ],
      "execution_count": null,
      "outputs": []
    },
    {
      "cell_type": "markdown",
      "metadata": {
        "id": "_WS08gnnzUhx"
      },
      "source": [
        "## Divisão entre treinamento e teste"
      ]
    },
    {
      "cell_type": "code",
      "metadata": {
        "id": "ucR7kxkOzcJ_"
      },
      "source": [
        "#criando variaveis de treino e teste \n",
        "x_treinamento, x_teste, y_treinamento, y_teste = train_test_split(previsores, classe, test_size=0.3, random_state = 0)"
      ],
      "execution_count": null,
      "outputs": []
    },
    {
      "cell_type": "markdown",
      "metadata": {
        "id": "jQv6hDlPz51o"
      },
      "source": [
        "## Criando Algoritmo Arvore de Decisão "
      ]
    },
    {
      "cell_type": "code",
      "metadata": {
        "id": "UqLHUH6Zz-QZ",
        "colab": {
          "base_uri": "https://localhost:8080/"
        },
        "outputId": "506df87b-21ff-489d-a930-63148e3a61f9"
      },
      "source": [
        "arvore = DecisionTreeClassifier()\n",
        "arvore.fit(x_treinamento, y_treinamento)"
      ],
      "execution_count": null,
      "outputs": [
        {
          "output_type": "execute_result",
          "data": {
            "text/plain": [
              "DecisionTreeClassifier(ccp_alpha=0.0, class_weight=None, criterion='gini',\n",
              "                       max_depth=None, max_features=None, max_leaf_nodes=None,\n",
              "                       min_impurity_decrease=0.0, min_impurity_split=None,\n",
              "                       min_samples_leaf=1, min_samples_split=2,\n",
              "                       min_weight_fraction_leaf=0.0, presort='deprecated',\n",
              "                       random_state=None, splitter='best')"
            ]
          },
          "metadata": {
            "tags": []
          },
          "execution_count": 7
        }
      ]
    },
    {
      "cell_type": "markdown",
      "metadata": {
        "id": "Uzki7gc911v4"
      },
      "source": [
        "Vamos criar um grafico dessa arvore "
      ]
    },
    {
      "cell_type": "code",
      "metadata": {
        "id": "QNhNwOPb14_T",
        "colab": {
          "base_uri": "https://localhost:8080/"
        },
        "outputId": "05bb37c5-6ed2-4d74-d381-ea681e0be518"
      },
      "source": [
        "pip install graphviz"
      ],
      "execution_count": null,
      "outputs": [
        {
          "output_type": "stream",
          "text": [
            "Requirement already satisfied: graphviz in /usr/local/lib/python3.6/dist-packages (0.10.1)\n"
          ],
          "name": "stdout"
        }
      ]
    },
    {
      "cell_type": "code",
      "metadata": {
        "id": "BQoCwQ2V2JEU"
      },
      "source": [
        "import graphviz\n",
        "from sklearn.tree import export_graphviz"
      ],
      "execution_count": null,
      "outputs": []
    },
    {
      "cell_type": "code",
      "metadata": {
        "id": "BEOGxB4l2Qfm"
      },
      "source": [
        "export_graphviz(arvore, out_file='tree.dot')"
      ],
      "execution_count": null,
      "outputs": []
    },
    {
      "cell_type": "markdown",
      "metadata": {
        "id": "wsR5lHHO2sPG"
      },
      "source": [
        "agora acessando o website www.webgraphviz.com\n",
        "\n",
        "Vamos abrir o arquivo tree.dot e passar para o site acima e visualizar a arvore"
      ]
    },
    {
      "cell_type": "markdown",
      "metadata": {
        "id": "-2eRlR2h3ZfQ"
      },
      "source": [
        "## Previsoes \n",
        "predict()"
      ]
    },
    {
      "cell_type": "code",
      "metadata": {
        "id": "uHFKV5X93hCh"
      },
      "source": [
        "y_pred = arvore.predict(x_teste) #aqui ele ja fez a previsao, lembrando que só passa o X pois quer prever o resultado Y"
      ],
      "execution_count": null,
      "outputs": []
    },
    {
      "cell_type": "code",
      "metadata": {
        "id": "1UZs7jZF3ptr",
        "colab": {
          "base_uri": "https://localhost:8080/"
        },
        "outputId": "80db10a2-05b6-4e37-ffa9-64b098e6562f"
      },
      "source": [
        "confusao = confusion_matrix(y_teste, y_pred )  #para mostrar a previsao acima na matriz confusao \n",
        "confusao"
      ],
      "execution_count": null,
      "outputs": [
        {
          "output_type": "execute_result",
          "data": {
            "text/plain": [
              "array([[ 20,  19,   2,   7],\n",
              "       [ 21, 114,   3,  45],\n",
              "       [  2,   0,   1,   2],\n",
              "       [  3,  40,   0,  21]])"
            ]
          },
          "metadata": {
            "tags": []
          },
          "execution_count": 21
        }
      ]
    },
    {
      "cell_type": "code",
      "metadata": {
        "id": "NVkiyoMR4R-h"
      },
      "source": [
        "taxa_de_acerto = accuracy_score(y_teste, y_pred)\n",
        "taxa_de_erro = 1-taxa_de_acerto"
      ],
      "execution_count": null,
      "outputs": []
    },
    {
      "cell_type": "code",
      "metadata": {
        "id": "kgGUmK5o4VLW",
        "colab": {
          "base_uri": "https://localhost:8080/"
        },
        "outputId": "14c66d6b-967f-42a2-a106-2b0992465f2b"
      },
      "source": [
        "print (f'A acuracia desse modelo foi de {round(taxa_de_acerto*100,2)} % / Taxa de erro foi de {round(taxa_de_erro*100,2)} %')"
      ],
      "execution_count": null,
      "outputs": [
        {
          "output_type": "stream",
          "text": [
            "A acuracia desse modelo foi de 52.0 % / Taxa de erro foi de 48.0 %\n"
          ],
          "name": "stdout"
        }
      ]
    },
    {
      "cell_type": "markdown",
      "metadata": {
        "id": "pa5kIJ9V4c_A"
      },
      "source": [
        "## modelo na Yellowbrick"
      ]
    },
    {
      "cell_type": "code",
      "metadata": {
        "id": "LFNA8BFH48eU",
        "colab": {
          "base_uri": "https://localhost:8080/",
          "height": 72
        },
        "outputId": "6f5aa2c9-eaf7-4d2a-e277-3f7b5e66d303"
      },
      "source": [
        "from yellowbrick.classifier import ConfusionMatrix"
      ],
      "execution_count": null,
      "outputs": [
        {
          "output_type": "stream",
          "text": [
            "/usr/local/lib/python3.6/dist-packages/sklearn/utils/deprecation.py:144: FutureWarning: The sklearn.metrics.classification module is  deprecated in version 0.22 and will be removed in version 0.24. The corresponding classes / functions should instead be imported from sklearn.metrics. Anything that cannot be imported from sklearn.metrics is now part of the private API.\n",
            "  warnings.warn(message, FutureWarning)\n"
          ],
          "name": "stderr"
        }
      ]
    },
    {
      "cell_type": "code",
      "metadata": {
        "id": "wtB37OLE4dp3",
        "colab": {
          "base_uri": "https://localhost:8080/",
          "height": 506
        },
        "outputId": "42c064e7-82a1-498b-ee46-df3453a58957"
      },
      "source": [
        "visualizador = ConfusionMatrix(DecisionTreeClassifier()) \n",
        "visualizador.fit(x_treinamento, y_treinamento) \n",
        "visualizador.score(x_teste, y_teste) \n",
        "visualizador.poof() #mostra os valores de x e y mas não mostra a acuracia "
      ],
      "execution_count": null,
      "outputs": [
        {
          "output_type": "display_data",
          "data": {
            "image/png": "[encoded data removed]",
            "text/plain": [
              "<Figure size 576x396 with 1 Axes>"
            ]
          },
          "metadata": {
            "tags": []
          }
        }
      ]
    }
  ]
}